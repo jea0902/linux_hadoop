{
 "cells": [
  {
   "cell_type": "code",
   "execution_count": 1,
   "id": "c956daf2",
   "metadata": {},
   "outputs": [],
   "source": [
    "import tkinter as tk\n",
    "import tkinter.font as font\n",
    "\n",
    "class App:\n",
    "    def __init__(self):\n",
    "        root=tk.Tk()\n",
    "        \n",
    "        self.customFont=font.Font(family=\"Helvetica\", size=12)\n",
    "        \n",
    "        buttonframe = tk.Frame()\n",
    "        label = tk.Label(root,text=\"Hello World\", font=self.customFont)\n",
    "        buttonframe.pack()\n",
    "        label.pack()\n",
    "\n",
    "        bigger=tk.Button(root,text=\"폰트를 크게\",command=self.BigFont)\n",
    "        smaller=tk.Button(root,text=\"폰트를 작게\",command=self.SmallFont)\n",
    "        bigger.pack()\n",
    "        smaller.pack()\n",
    "        root.mainloop()\n",
    "    \n",
    "    def BigFont(self):\n",
    "        size=self.customFont['size']\n",
    "        self.customFont.configure(size=size+2)\n",
    "    \n",
    "    def SmallFont(self):\n",
    "        size=self.customFont['size']\n",
    "        self.customFont.configure(size=size-2)\n",
    "\n",
    "app=App()"
   ]
  },
  {
   "cell_type": "code",
   "execution_count": 2,
   "id": "c4ba6ae6",
   "metadata": {},
   "outputs": [
    {
     "ename": "TclError",
     "evalue": "couldn't open \"a1.gif\": no such file or directory",
     "output_type": "error",
     "traceback": [
      "\u001b[1;31m---------------------------------------------------------------------------\u001b[0m",
      "\u001b[1;31mTclError\u001b[0m                                  Traceback (most recent call last)",
      "Cell \u001b[1;32mIn[2], line 4\u001b[0m\n\u001b[0;32m      1\u001b[0m \u001b[38;5;28;01mfrom\u001b[39;00m \u001b[38;5;21;01mtkinter\u001b[39;00m \u001b[38;5;28;01mimport\u001b[39;00m\u001b[38;5;241m*\u001b[39m\n\u001b[0;32m      3\u001b[0m window\u001b[38;5;241m=\u001b[39mTk()\n\u001b[1;32m----> 4\u001b[0m photo \u001b[38;5;241m=\u001b[39m \u001b[43mPhotoImage\u001b[49m\u001b[43m(\u001b[49m\u001b[43mfile\u001b[49m\u001b[38;5;241;43m=\u001b[39;49m\u001b[38;5;124;43m'\u001b[39;49m\u001b[38;5;124;43ma1.gif\u001b[39;49m\u001b[38;5;124;43m'\u001b[39;49m\u001b[43m)\u001b[49m\n\u001b[0;32m      5\u001b[0m w\u001b[38;5;241m=\u001b[39mLabel(window,image\u001b[38;5;241m=\u001b[39mphoto)\n\u001b[0;32m      6\u001b[0m w\u001b[38;5;241m.\u001b[39mphoto \u001b[38;5;241m=\u001b[39m photo\n",
      "File \u001b[1;32m~\\anaconda3\\lib\\tkinter\\__init__.py:4103\u001b[0m, in \u001b[0;36mPhotoImage.__init__\u001b[1;34m(self, name, cnf, master, **kw)\u001b[0m\n\u001b[0;32m   4098\u001b[0m \u001b[38;5;28;01mdef\u001b[39;00m \u001b[38;5;21m__init__\u001b[39m(\u001b[38;5;28mself\u001b[39m, name\u001b[38;5;241m=\u001b[39m\u001b[38;5;28;01mNone\u001b[39;00m, cnf\u001b[38;5;241m=\u001b[39m{}, master\u001b[38;5;241m=\u001b[39m\u001b[38;5;28;01mNone\u001b[39;00m, \u001b[38;5;241m*\u001b[39m\u001b[38;5;241m*\u001b[39mkw):\n\u001b[0;32m   4099\u001b[0m     \u001b[38;5;124;03m\"\"\"Create an image with NAME.\u001b[39;00m\n\u001b[0;32m   4100\u001b[0m \n\u001b[0;32m   4101\u001b[0m \u001b[38;5;124;03m    Valid resource names: data, format, file, gamma, height, palette,\u001b[39;00m\n\u001b[0;32m   4102\u001b[0m \u001b[38;5;124;03m    width.\"\"\"\u001b[39;00m\n\u001b[1;32m-> 4103\u001b[0m     Image\u001b[38;5;241m.\u001b[39m\u001b[38;5;21m__init__\u001b[39m(\u001b[38;5;28mself\u001b[39m, \u001b[38;5;124m'\u001b[39m\u001b[38;5;124mphoto\u001b[39m\u001b[38;5;124m'\u001b[39m, name, cnf, master, \u001b[38;5;241m*\u001b[39m\u001b[38;5;241m*\u001b[39mkw)\n",
      "File \u001b[1;32m~\\anaconda3\\lib\\tkinter\\__init__.py:4048\u001b[0m, in \u001b[0;36mImage.__init__\u001b[1;34m(self, imgtype, name, cnf, master, **kw)\u001b[0m\n\u001b[0;32m   4046\u001b[0m         v \u001b[38;5;241m=\u001b[39m \u001b[38;5;28mself\u001b[39m\u001b[38;5;241m.\u001b[39m_register(v)\n\u001b[0;32m   4047\u001b[0m     options \u001b[38;5;241m=\u001b[39m options \u001b[38;5;241m+\u001b[39m (\u001b[38;5;124m'\u001b[39m\u001b[38;5;124m-\u001b[39m\u001b[38;5;124m'\u001b[39m\u001b[38;5;241m+\u001b[39mk, v)\n\u001b[1;32m-> 4048\u001b[0m \u001b[38;5;28;43mself\u001b[39;49m\u001b[38;5;241;43m.\u001b[39;49m\u001b[43mtk\u001b[49m\u001b[38;5;241;43m.\u001b[39;49m\u001b[43mcall\u001b[49m\u001b[43m(\u001b[49m\u001b[43m(\u001b[49m\u001b[38;5;124;43m'\u001b[39;49m\u001b[38;5;124;43mimage\u001b[39;49m\u001b[38;5;124;43m'\u001b[39;49m\u001b[43m,\u001b[49m\u001b[43m \u001b[49m\u001b[38;5;124;43m'\u001b[39;49m\u001b[38;5;124;43mcreate\u001b[39;49m\u001b[38;5;124;43m'\u001b[39;49m\u001b[43m,\u001b[49m\u001b[43m \u001b[49m\u001b[43mimgtype\u001b[49m\u001b[43m,\u001b[49m\u001b[43m \u001b[49m\u001b[43mname\u001b[49m\u001b[43m,\u001b[49m\u001b[43m)\u001b[49m\u001b[43m \u001b[49m\u001b[38;5;241;43m+\u001b[39;49m\u001b[43m \u001b[49m\u001b[43moptions\u001b[49m\u001b[43m)\u001b[49m\n\u001b[0;32m   4049\u001b[0m \u001b[38;5;28mself\u001b[39m\u001b[38;5;241m.\u001b[39mname \u001b[38;5;241m=\u001b[39m name\n",
      "\u001b[1;31mTclError\u001b[0m: couldn't open \"a1.gif\": no such file or directory"
     ]
    }
   ],
   "source": [
    "from tkinter import*\n",
    "\n",
    "window=Tk()\n",
    "photo = PhotoImage(file='a1.gif')\n",
    "w=Label(window,image=photo)\n",
    "w.photo = photo\n",
    "w.pack()\n",
    "window.mainloop()"
   ]
  },
  {
   "cell_type": "code",
   "execution_count": 3,
   "id": "675aaeac",
   "metadata": {},
   "outputs": [],
   "source": [
    "from tkinter import*\n",
    "\n",
    "window=Tk()\n",
    "Label(window,text=\"이름\").grid(row=0)\n",
    "Label(window,text=\"나이\").grid(row=1)\n",
    "\n",
    "e1 = Entry(window)\n",
    "e2 = Entry(window)\n",
    "\n",
    "e1.grid(row=0, column=1)\n",
    "e2.grid(row=1, column=1)\n",
    "\n",
    "window.mainloop()\n"
   ]
  },
  {
   "cell_type": "code",
   "execution_count": 5,
   "id": "2775f525",
   "metadata": {},
   "outputs": [
    {
     "name": "stderr",
     "output_type": "stream",
     "text": [
      "<>:2: SyntaxWarning: 'str' object is not callable; perhaps you missed a comma?\n",
      "<>:2: SyntaxWarning: 'str' object is not callable; perhaps you missed a comma?\n",
      "C:\\Users\\Playdata\\AppData\\Local\\Temp\\ipykernel_20148\\2415949992.py:2: SyntaxWarning: 'str' object is not callable; perhaps you missed a comma?\n",
      "  print(\"이름:%s\\n나이:%s\"(e1.get(),e2.get()))\n"
     ]
    }
   ],
   "source": [
    "def show():\n",
    "    print(\"이름:%s\\n나이:%s\"(e1.get(),e2.get()))\n",
    "parent=Tk()\n",
    "Label(parent,text=\"이름\").grid(row=0)\n",
    "Label(parent,text=\"나이\").grid(row=1)\n",
    "\n",
    "e1 = Entry(parent)\n",
    "e2 = Entry(parent)\n",
    "\n",
    "e1.grid(row=0, column=1)\n",
    "e2.grid(row=1, column=1)\n",
    "\n",
    "Button(parent, text=\"보이기\",command=show).grid(row=3, column=1,sticky=W, pady=4)\n",
    "Button(parent, text=\"종료\",command=parent.quit).grid(row=3, column=0, sticky=W, pady=4)\n",
    "\n",
    "mainloop()"
   ]
  },
  {
   "cell_type": "code",
   "execution_count": 6,
   "id": "1a362a30",
   "metadata": {},
   "outputs": [],
   "source": [
    "window = Tk()\n",
    "T = Text(window, height=5, width=60)\n",
    "T.pack()\n",
    "T.insert(END, \"테스트 위젯은 여러 줄의 \\n 텍스트를 표시할 수 있습니다.\")\n",
    "mainloop()"
   ]
  },
  {
   "cell_type": "code",
   "execution_count": 8,
   "id": "916d8df9",
   "metadata": {},
   "outputs": [],
   "source": [
    "from tkinter import*\n",
    "\n",
    "window=Tk()\n",
    "\n",
    "w=Canvas(window,width=300,height=200)\n",
    "w.pack()\n",
    "\n",
    "w.create_rectangle(50,25,200,100,fill=\"blue\")\n",
    "w.create_line(0,0,300,200)\n",
    "w.create_line(0,0,300,100,fill=\"red\")\n",
    "\n",
    "mainloop()"
   ]
  },
  {
   "cell_type": "code",
   "execution_count": 9,
   "id": "eeda5e54",
   "metadata": {},
   "outputs": [],
   "source": [
    "from math import*\n",
    "\n",
    "def calculate(event):\n",
    "    label.configure(text=\"결과:\" + str(eval(entry.get())))\n",
    "\n",
    "window = Tk()\n",
    "\n",
    "Label(window, text=\"파이썬 수식 입력:\").pack()\n",
    "entry = Entry(window)\n",
    "entry.bind(\"<Return>\",calculate)\n",
    "entry.pack()\n",
    "\n",
    "label=Label(window, text=\"결과:\")\n",
    "label.pack()\n",
    "\n",
    "w.mainloop()"
   ]
  },
  {
   "cell_type": "code",
   "execution_count": 10,
   "id": "ff3f47cd",
   "metadata": {},
   "outputs": [],
   "source": [
    "import random\n",
    "from tkinter import*\n",
    "\n",
    "window=Tk()\n",
    "canvas=Canvas(window,width=500,height=400)\n",
    "canvas.pack()\n",
    "color = [\"red\",\"orange\",\"yellow\",\"green\",\"blue\",\"violet\"]\n",
    "\n",
    "def draw_rect():\n",
    "    x = random.randint(0,500)\n",
    "    y = random.randint(0,400)\n",
    "    w = random.randrange(100)\n",
    "    h = random.randrange(100)\n",
    "    canvas.create_rectangle(x,y,w,h,fill = random.choice(color))\n",
    "\n",
    "for i in range(10):\n",
    "    draw_rect()\n",
    "    \n",
    "window.mainloop()"
   ]
  },
  {
   "cell_type": "code",
   "execution_count": null,
   "id": "59ee821e",
   "metadata": {},
   "outputs": [],
   "source": []
  }
 ],
 "metadata": {
  "kernelspec": {
   "display_name": "Python 3 (ipykernel)",
   "language": "python",
   "name": "python3"
  },
  "language_info": {
   "codemirror_mode": {
    "name": "ipython",
    "version": 3
   },
   "file_extension": ".py",
   "mimetype": "text/x-python",
   "name": "python",
   "nbconvert_exporter": "python",
   "pygments_lexer": "ipython3",
   "version": "3.10.9"
  }
 },
 "nbformat": 4,
 "nbformat_minor": 5
}
